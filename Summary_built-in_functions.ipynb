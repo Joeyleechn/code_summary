{
 "cells": [
  {
   "cell_type": "code",
   "execution_count": null,
   "metadata": {},
   "outputs": [],
   "source": [
    "sorted(['d', 'b', 'c'], reverse=True)"
   ]
  },
  {
   "cell_type": "code",
   "execution_count": 1,
   "metadata": {},
   "outputs": [
    {
     "output_type": "execute_result",
     "data": {
      "text/plain": [
       "['B', 'c', 'd', 'F']"
      ]
     },
     "metadata": {},
     "execution_count": 1
    }
   ],
   "source": [
    "lst = ['d', 'B', 'c', 'F']\n",
    "lst.sort(key=str.lower)\n",
    "lst"
   ]
  },
  {
   "cell_type": "code",
   "execution_count": 3,
   "metadata": {},
   "outputs": [
    {
     "output_type": "execute_result",
     "data": {
      "text/plain": [
       "['F', 'd', 'c', 'B']"
      ]
     },
     "metadata": {},
     "execution_count": 3
    }
   ],
   "source": [
    "sorted(lst, key=str.lower, reverse=True)"
   ]
  },
  {
   "cell_type": "code",
   "execution_count": 1,
   "metadata": {},
   "outputs": [],
   "source": [
    "st = '330:510 9:12 733173:864046 664:907 646346:764956 16006:21763 9804:11465 14655:23652 37023:44290 18:22'\n",
    "cr = [[int(t) for t in s.split(':')] for s in st.split()]"
   ]
  },
  {
   "cell_type": "code",
   "execution_count": 9,
   "metadata": {},
   "outputs": [
    {
     "data": {
      "text/plain": [
       "[[733173, 864046],\n",
       " [646346, 764956],\n",
       " [37023, 44290],\n",
       " [14655, 23652],\n",
       " [16006, 21763],\n",
       " [9804, 11465],\n",
       " [664, 907],\n",
       " [330, 510],\n",
       " [18, 22],\n",
       " [9, 12]]"
      ]
     },
     "execution_count": 9,
     "metadata": {},
     "output_type": "execute_result"
    }
   ],
   "source": [
    "sorted(cr, key=lambda x: -x[1])"
   ]
  },
  {
   "cell_type": "code",
   "execution_count": 2,
   "metadata": {},
   "outputs": [
    {
     "output_type": "stream",
     "name": "stdout",
     "text": [
      "abcd\n"
     ]
    }
   ],
   "source": [
    "def findlonger(a: str, b: str):\n",
    "    if not a and not b:\n",
    "        return None\n",
    "    else:\n",
    "        return (a, b)[len(a) < len(b)]\n",
    "str1 = 'abc'\n",
    "str2 = 'abcd'\n",
    "print(findlonger(str1, str2))"
   ]
  },
  {
   "cell_type": "code",
   "execution_count": 5,
   "metadata": {},
   "outputs": [
    {
     "output_type": "stream",
     "name": "stdout",
     "text": [
      "abc\n"
     ]
    }
   ],
   "source": [
    "def printnotnull(a: str, b: str):\n",
    "    if not a or not b:\n",
    "        print(a or b) \n",
    "    if a and b:\n",
    "        print(a, b)\n",
    "a = 'abc'\n",
    "b = None\n",
    "printnotnull(a, b)"
   ]
  },
  {
   "cell_type": "code",
   "execution_count": 42,
   "metadata": {},
   "outputs": [
    {
     "output_type": "execute_result",
     "data": {
      "text/plain": [
       "{2: 6, 1: 5, 4: 3, 5: 4}"
      ]
     },
     "metadata": {},
     "execution_count": 42
    }
   ],
   "source": [
    "lst = [2,1,2,4,5,1,2]\n",
    "dict([(v,k) for k, v in enumerate(lst)])"
   ]
  },
  {
   "cell_type": "code",
   "execution_count": 73,
   "metadata": {},
   "outputs": [
    {
     "output_type": "stream",
     "name": "stdout",
     "text": [
      "(0, 1) (1, 2) (2, 3) (3, 4) (4, 1) (5, 2) (6, 3) (7, 1) (8, 1) (9, 2)\n"
     ]
    }
   ],
   "source": [
    "lst1 = [1,2,3,4,1,2,3,1,1,2]\n",
    "lst2 = list(range(len(lst1)))\n",
    "print(*zip(lst2, lst1))"
   ]
  }
 ],
 "metadata": {
  "kernelspec": {
   "display_name": "Python 3",
   "language": "python",
   "name": "python3"
  },
  "language_info": {
   "codemirror_mode": {
    "name": "ipython",
    "version": 3
   },
   "file_extension": ".py",
   "mimetype": "text/x-python",
   "name": "python",
   "nbconvert_exporter": "python",
   "pygments_lexer": "ipython3",
   "version": "3.7.3-final"
  }
 },
 "nbformat": 4,
 "nbformat_minor": 2
}